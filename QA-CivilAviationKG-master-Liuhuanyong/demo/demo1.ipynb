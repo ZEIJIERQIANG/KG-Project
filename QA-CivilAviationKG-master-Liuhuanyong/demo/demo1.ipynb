{
 "cells": [
  {
   "cell_type": "code",
   "execution_count": 1,
   "metadata": {
    "collapsed": true
   },
   "outputs": [
    {
     "name": "stdout",
     "output_type": "stream",
     "text": [
      "欢迎与小航对话，请问有什么可以帮助您的？\n"
     ]
    }
   ],
   "source": [
    "import os\n",
    "from chatbot import CAChatBot\n",
    "\n",
    "os.chdir(os.path.join(os.getcwd(), '..'))\n",
    "chatbot = CAChatBot()"
   ]
  },
  {
   "cell_type": "markdown",
   "metadata": {
    "collapsed": false
   },
   "source": [
    "### 在这个demo中，你将看到如下几个问题类型的回答和介绍：\n",
    "1. year_status\n",
    "2. catalog_status\n",
    "3. catalog_change\n",
    "4. index_change\n",
    "5. exist_catalog\n",
    "6. begin_stats"
   ]
  },
  {
   "cell_type": "markdown",
   "metadata": {
    "collapsed": false
   },
   "source": [
    "## 1. year_status\n",
    "回答一个年度的整体情况。"
   ]
  },
  {
   "cell_type": "code",
   "execution_count": 2,
   "metadata": {
    "collapsed": false,
    "pycharm": {
     "name": "#%%\n"
    }
   },
   "outputs": [
    {
     "data": {
      "text/plain": [
       "'2011年，全年航空安全形势稳定，旅客运输和通用航空保持较快增长，运行质量和经济效益得到提升，基础设施建设取得新成绩，结构调整和深化改革迈出新步伐，党的建设和行业文化建设得到加强。'"
      ]
     },
     "execution_count": 2,
     "metadata": {},
     "output_type": "execute_result"
    }
   ],
   "source": [
    "chatbot.query('2011年的整体状况如何？')"
   ]
  },
  {
   "cell_type": "markdown",
   "metadata": {
    "collapsed": false
   },
   "source": [
    "## 2. catalog_status\n",
    "回答某个年度某项目录的整体情况，有些目录有这些整体情况的概述，有些没有。"
   ]
  },
  {
   "cell_type": "code",
   "execution_count": 4,
   "metadata": {
    "collapsed": false,
    "pycharm": {
     "name": "#%%\n"
    }
   },
   "outputs": [
    {
     "data": {
      "text/plain": [
       "'航空安全在2013年，民航安全形势平稳。全行业未发生运输航空事故、空防安全事故，发生通用航空事故10起。'"
      ]
     },
     "execution_count": 4,
     "metadata": {},
     "output_type": "execute_result"
    }
   ],
   "source": [
    "chatbot.query('2013年航空安全发展形势怎么样？')"
   ]
  },
  {
   "cell_type": "code",
   "execution_count": 5,
   "metadata": {
    "collapsed": false,
    "pycharm": {
     "name": "#%%\n"
    }
   },
   "outputs": [
    {
     "data": {
      "text/plain": [
       "'并没有关于2012年教育及科技的描述。'"
      ]
     },
     "execution_count": 5,
     "metadata": {},
     "output_type": "execute_result"
    }
   ],
   "source": [
    "chatbot.query('2012年教育及科技状况如何？')"
   ]
  },
  {
   "cell_type": "markdown",
   "metadata": {
    "collapsed": false
   },
   "source": [
    "## 3. catalog_change\n",
    "回答某两个年度相比，它们俩之间相差哪些目录；若某一年度的目录正好涵盖了另一年度的，则回答两年度目录相同。"
   ]
  },
  {
   "cell_type": "code",
   "execution_count": 6,
   "metadata": {
    "collapsed": false,
    "pycharm": {
     "name": "#%%\n"
    }
   },
   "outputs": [
    {
     "data": {
      "text/plain": [
       "'2011年与2013年相比，未统计3个目录：规章发布、工会工作、飞行员数量；2013年与2011年的目录相同。'"
      ]
     },
     "execution_count": 6,
     "metadata": {},
     "output_type": "execute_result"
    }
   ],
   "source": [
    "chatbot.query('13年比11年多了哪些目录？')"
   ]
  },
  {
   "cell_type": "markdown",
   "metadata": {
    "collapsed": false
   },
   "source": [
    "上述回答注意主语，前半句说的是2011年的目录（比2013年的少），后半句是2013年的目录涵盖了2011年的。"
   ]
  },
  {
   "cell_type": "code",
   "execution_count": 7,
   "metadata": {
    "collapsed": false,
    "pycharm": {
     "name": "#%%\n"
    }
   },
   "outputs": [
    {
     "data": {
      "text/plain": [
       "'2011年与2012年相比，未统计1个目录：飞行员数量；2012年与2011年的目录相同。'"
      ]
     },
     "execution_count": 7,
     "metadata": {},
     "output_type": "execute_result"
    }
   ],
   "source": [
    "chatbot.query('12比11年少了哪些目录？')"
   ]
  },
  {
   "cell_type": "markdown",
   "metadata": {
    "collapsed": false
   },
   "source": [
    "## 4. index_change\n",
    "回答某两个年度相比，它们俩之间相差哪些指标。"
   ]
  },
  {
   "cell_type": "code",
   "execution_count": 8,
   "metadata": {
    "collapsed": false,
    "pycharm": {
     "name": "#%%\n"
    }
   },
   "outputs": [
    {
     "data": {
      "text/plain": [
       "'2011年与2013年相比，未统计16个指标：飞机多成员机组驾驶员执照、飞机商用驾驶员执照、直升机驾驶员执照、非正常执行计划航班、全部航空公司因其他非正常执行原因、恢复执行机场、主要航空公司非正常执行计划航班、人为责任原因事故征候、全行业取得驾驶执照飞行员、竣工空管项目、其他航空器驾驶员执照、全部航空公司因天气原因非正常执行、飞机航线运输驾驶员执照、全部航空公司因航空公司自身原因非正常执行、飞机私用驾驶员执照、全部航空公司因流量控制非正常执行；2013年与2011年相比，未统计19个指标：续建空管项目、民航全行业应缴税金、通用航空器失踪、新开工空管项目、重大运输任务、无效投诉、全行业客公里收入水平、飞行、机务、空管三个民航特有专业计划招生、赴海外紧急撤侨任务、中小航空公司因航空公司自身原因非正常执行、中小航空公司正常执行计划航班、抢险救灾任务、中小航空公司因其他非正常执行原因、中小航空公司计划航班、中小航空公司因天气原因非正常执行、中小航空公司因流量控制非正常执行、通用航空一般飞行事故、有效投诉、全行业运输收入水平。'"
      ]
     },
     "execution_count": 8,
     "metadata": {},
     "output_type": "execute_result"
    }
   ],
   "source": [
    "chatbot.query('13年比前年增加了哪些指标？')"
   ]
  },
  {
   "cell_type": "code",
   "execution_count": 9,
   "metadata": {
    "collapsed": false,
    "pycharm": {
     "name": "#%%\n"
    }
   },
   "outputs": [
    {
     "data": {
      "text/plain": [
       "'2011年与2012年相比，未统计7个指标：非正常执行计划航班、全部航空公司因其他非正常执行原因、主要航空公司非正常执行计划航班、全行业取得驾驶执照飞行员、全部航空公司因天气原因非正常执行、全部航空公司因航空公司自身原因非正常执行、全部航空公司因流量控制非正常执行；2012年与2011年相比，未统计13个指标：中小航空公司计划航班、中小航空公司因天气原因非正常执行、续建空管项目、中小航空公司因流量控制非正常执行、中小航空公司正常执行计划航班、无效投诉、严重事故征候万时率、抢险救灾任务、通用航空器失踪、有效投诉、中小航空公司因其他非正常执行原因、赴海外紧急撤侨任务、中小航空公司因航空公司自身原因非正常执行。'"
      ]
     },
     "execution_count": 9,
     "metadata": {},
     "output_type": "execute_result"
    }
   ],
   "source": [
    "chatbot.query('12年与11年相比，指标变化如何？')"
   ]
  },
  {
   "cell_type": "markdown",
   "metadata": {
    "collapsed": false
   },
   "source": [
    "## 5. exist_catalog\n",
    "回答某个年度都统计或记录了哪些目录。"
   ]
  },
  {
   "cell_type": "code",
   "execution_count": 10,
   "metadata": {
    "collapsed": false,
    "pycharm": {
     "name": "#%%\n"
    }
   },
   "outputs": [
    {
     "data": {
      "text/plain": [
       "'2011年目录包括: 社会责任，固定资产投资，通用航空，经济效益，运输航空，教育及科技，航空安全，航空服务，运输效率与收入。'"
      ]
     },
     "execution_count": 10,
     "metadata": {},
     "output_type": "execute_result"
    }
   ],
   "source": [
    "chatbot.query('2011年有哪些目录？')"
   ]
  },
  {
   "cell_type": "code",
   "execution_count": 11,
   "metadata": {
    "collapsed": false,
    "pycharm": {
     "name": "#%%\n"
    }
   },
   "outputs": [
    {
     "data": {
      "text/plain": [
       "'2013年目录包括: 经济效益，通用航空，固定资产投资，社会责任，规章发布，运输效率与收入，飞行员数量，工会工作，航空服务，航空安全，教育及科技，运输航空。'"
      ]
     },
     "execution_count": 11,
     "metadata": {},
     "output_type": "execute_result"
    }
   ],
   "source": [
    "chatbot.query('一三年有啥规格？')"
   ]
  },
  {
   "cell_type": "markdown",
   "metadata": {
    "collapsed": false
   },
   "source": [
    "## 6. begin_stats\n",
    "回答某项指标是哪一年开始统计的。"
   ]
  },
  {
   "cell_type": "code",
   "execution_count": 12,
   "metadata": {
    "collapsed": false,
    "pycharm": {
     "name": "#%%\n"
    }
   },
   "outputs": [
    {
     "data": {
      "text/plain": [
       "'指标“直升机驾驶员执照”最早于2013年开始统计。'"
      ]
     },
     "execution_count": 12,
     "metadata": {},
     "output_type": "execute_result"
    }
   ],
   "source": [
    "chatbot.query('哪年才开始统计直升机驾驶员执照这项指标？')"
   ]
  },
  {
   "cell_type": "code",
   "execution_count": 13,
   "metadata": {
    "collapsed": false,
    "pycharm": {
     "name": "#%%\n"
    }
   },
   "outputs": [
    {
     "data": {
      "text/plain": [
       "'指标“航空公司实现营业收入”最早于2011年开始统计。'"
      ]
     },
     "execution_count": 13,
     "metadata": {},
     "output_type": "execute_result"
    }
   ],
   "source": [
    "chatbot.query('在哪一年最先出现了航空公司营业收入数据？')"
   ]
  }
 ],
 "metadata": {
  "kernelspec": {
   "display_name": "Python 3",
   "language": "python",
   "name": "python3"
  },
  "language_info": {
   "codemirror_mode": {
    "name": "ipython",
    "version": 2.0
   },
   "file_extension": ".py",
   "mimetype": "text/x-python",
   "name": "python",
   "nbconvert_exporter": "python",
   "pygments_lexer": "ipython2",
   "version": "2.7.6"
  }
 },
 "nbformat": 4,
 "nbformat_minor": 0
}