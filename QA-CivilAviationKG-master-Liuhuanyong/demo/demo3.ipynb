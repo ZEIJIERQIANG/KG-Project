{
 "cells": [
  {
   "cell_type": "code",
   "execution_count": 1,
   "metadata": {},
   "outputs": [
    {
     "name": "stdout",
     "output_type": "stream",
     "text": [
      "欢迎与小航对话，请问有什么可以帮助您的？\n"
     ]
    }
   ],
   "source": [
    "import os\n",
    "from chatbot import CAChatBot\n",
    "\n",
    "os.chdir(os.path.join(os.getcwd(), '..'))\n",
    "chatbot = CAChatBot()"
   ]
  },
  {
   "cell_type": "markdown",
   "metadata": {
    "pycharm": {
     "name": "#%% md\n"
    }
   },
   "source": [
    "### 在这个demo中，你将看到如下几个问题类型的回答和介绍：\n",
    "1. area_value\n",
    "2. area_overall\n",
    "3. area_2_overall\n",
    "4. areas_m_compare\n",
    "5. areas_n_compare\n",
    "6. areas_g_compare\n",
    "7. areas_2m_compare\n",
    "8. areas_2n_compare"
   ]
  },
  {
   "cell_type": "markdown",
   "metadata": {},
   "source": [
    "## 1. area_value\n",
    "回答某一个年度某些（一或多个）地区的某些（一或多个）指标的值。"
   ]
  },
  {
   "cell_type": "code",
   "execution_count": 2,
   "metadata": {
    "pycharm": {
     "name": "#%%\n"
    }
   },
   "outputs": [
    {
     "data": {
      "text/plain": [
       "'国内航线运输总周转量为380.61亿吨公里。'"
      ]
     },
     "execution_count": 2,
     "metadata": {},
     "output_type": "execute_result"
    }
   ],
   "source": [
    "chatbot.query('11年国内运输总周转量是多少？')"
   ]
  },
  {
   "cell_type": "code",
   "execution_count": 3,
   "metadata": {
    "pycharm": {
     "name": "#%%\n"
    }
   },
   "outputs": [
    {
     "data": {
      "text/plain": [
       "'国际航线运输总周转量为194.49亿吨公里；国际货邮周转量，无数据记录。'"
      ]
     },
     "execution_count": 3,
     "metadata": {},
     "output_type": "execute_result"
    }
   ],
   "source": [
    "chatbot.query('12年国际方面，运输总周转量和货邮周转量是多少？')"
   ]
  },
  {
   "cell_type": "code",
   "execution_count": 4,
   "metadata": {
    "pycharm": {
     "name": "#%%\n"
    }
   },
   "outputs": [
    {
     "data": {
      "text/plain": [
       "'国内航线运输总周转量为461.05亿吨公里；国内航线旅客运输量为32742.0万人次；国际航线运输总周转量为210.68亿吨公里；国际航线旅客运输量为2655.0万人次。'"
      ]
     },
     "execution_count": 4,
     "metadata": {},
     "output_type": "execute_result"
    }
   ],
   "source": [
    "chatbot.query('13年国内和国际方面运输总周转量和旅客运输量各是多少？')"
   ]
  },
  {
   "cell_type": "markdown",
   "metadata": {},
   "source": [
    "## 2. area_overall\n",
    "回答了某一个年度某些（一或多个）地区的某些（一或多个）指标占其父级地区该指标的比重（例）关系。"
   ]
  },
  {
   "cell_type": "code",
   "execution_count": 5,
   "metadata": {
    "pycharm": {
     "name": "#%%\n"
    }
   },
   "outputs": [
    {
     "data": {
      "text/plain": [
       "'港澳台航线的运输总周转量为12.64亿吨公里，其占国内运输总周转量的3.32%，国内运输总周转量是其的30.112倍。'"
      ]
     },
     "execution_count": 5,
     "metadata": {},
     "output_type": "execute_result"
    }
   ],
   "source": [
    "chatbot.query('11年港澳台运输总周转量占其父级的百分之几？')"
   ]
  },
  {
   "cell_type": "code",
   "execution_count": 6,
   "metadata": {
    "pycharm": {
     "name": "#%%\n"
    }
   },
   "outputs": [
    {
     "data": {
      "text/plain": [
       "'港澳台航线的运输总周转量为13.66亿吨公里，其占国内运输总周转量的3.28%，国内运输总周转量是其的30.441倍；港澳台无旅客运输量父级地区的数据记录，无法比较。'"
      ]
     },
     "execution_count": 6,
     "metadata": {},
     "output_type": "execute_result"
    }
   ],
   "source": [
    "chatbot.query('12年港澳台和国际的运输总周转量和游客运输量是父级的多少倍？')"
   ]
  },
  {
   "cell_type": "markdown",
   "metadata": {
    "pycharm": {
     "name": "#%% md\n"
    }
   },
   "source": [
    "## 3. area_2_overall\n",
    "回答了某两个年度中某一个地区的某项指标占其父级地区该指标的比重变化关系。"
   ]
  },
  {
   "cell_type": "code",
   "execution_count": 7,
   "metadata": {
    "pycharm": {
     "name": "#%%\n"
    }
   },
   "outputs": [
    {
     "data": {
      "text/plain": [
       "'2012年港澳台旅客运输量为834.0万人次，其总体地区（国内）的为29600.0万人次，约占总体的2.82%；2011年港澳台旅客运输量为760.0万人次，其总体地区（国内）的为27199.0万人次，约占总体的2.79%；前者相比后者提高0.03%。'"
      ]
     },
     "execution_count": 7,
     "metadata": {},
     "output_type": "execute_result"
    }
   ],
   "source": [
    "chatbot.query('12年港澳台的游客运输量占总体的百分比比去年变化了？')"
   ]
  },
  {
   "cell_type": "code",
   "execution_count": 8,
   "metadata": {
    "pycharm": {
     "name": "#%%\n"
    }
   },
   "outputs": [
    {
     "data": {
      "text/plain": [
       "'无2013、2011这几年中部地区旅客吞吐量的父级数据记录，无法比较。'"
      ]
     },
     "execution_count": 8,
     "metadata": {},
     "output_type": "execute_result"
    }
   ],
   "source": [
    "chatbot.query('13年中部地区旅客吞吐量的父级记录，相比11变化了多少？')"
   ]
  },
  {
   "cell_type": "markdown",
   "metadata": {
    "pycharm": {
     "name": "#%% md\n"
    }
   },
   "source": [
    "## 4. areas_m_compare\n",
    "回答了某一个年度中，对于某项（一或多个）指标，某一个地区与另外一个地区的倍数关系。"
   ]
  },
  {
   "cell_type": "code",
   "execution_count": 9,
   "metadata": {
    "pycharm": {
     "name": "#%%\n"
    }
   },
   "outputs": [
    {
     "data": {
      "text/plain": [
       "'国内航线的货邮运输量为406.7万吨，国际航线的货邮运输量为154.5万吨，前者是后者的2.632倍，后者是前者的0.38倍。'"
      ]
     },
     "execution_count": 9,
     "metadata": {},
     "output_type": "execute_result"
    }
   ],
   "source": [
    "chatbot.query('13年国内的货邮运输量是国际的几倍？')"
   ]
  },
  {
   "cell_type": "code",
   "execution_count": 10,
   "metadata": {
    "pycharm": {
     "name": "#%%\n"
    }
   },
   "outputs": [
    {
     "data": {
      "text/plain": [
       "'港澳台航线的运输总周转量为12.64亿吨公里，国际航线的运输总周转量为196.84亿吨公里，前者是后者的0.064倍，后者是前者的15.573倍；无港澳台旅客周转量数据记录，无法比较。'"
      ]
     },
     "execution_count": 10,
     "metadata": {},
     "output_type": "execute_result"
    }
   ],
   "source": [
    "chatbot.query('11年港澳台运输总周转量和游客周转量是国际的多少倍？')"
   ]
  },
  {
   "cell_type": "code",
   "execution_count": 11,
   "metadata": {
    "pycharm": {
     "name": "#%%\n"
    }
   },
   "outputs": [
    {
     "data": {
      "text/plain": [
       "'无港澳台货邮周转量数据记录，无法比较。'"
      ]
     },
     "execution_count": 11,
     "metadata": {},
     "output_type": "execute_result"
    }
   ],
   "source": [
    "chatbot.query('12年港澳台的货邮周转量是国内的多少倍？')"
   ]
  },
  {
   "cell_type": "markdown",
   "metadata": {},
   "source": [
    "## 5. areas_n_compare\n",
    "回答了某一个年度中，对于某项（一或多个）指标，某一个地区与另外一个地区的数值关系（比较关系）。"
   ]
  },
  {
   "cell_type": "code",
   "execution_count": 12,
   "metadata": {
    "pycharm": {
     "name": "#%%\n"
    }
   },
   "outputs": [
    {
     "data": {
      "text/plain": [
       "'港澳台航线的旅客运输量为760.0万人次，国内航线的旅客运输量为27199.0万人次，前者比后者少26439.0万人次。'"
      ]
     },
     "execution_count": 12,
     "metadata": {},
     "output_type": "execute_result"
    }
   ],
   "source": [
    "chatbot.query('11年港澳台游客运输量比国内的少多少？')"
   ]
  },
  {
   "cell_type": "code",
   "execution_count": 13,
   "metadata": {
    "pycharm": {
     "name": "#%%\n"
    }
   },
   "outputs": [
    {
     "data": {
      "text/plain": [
       "'国内航线的货邮运输量为388.5万吨，国际航线的货邮运输量为156.5万吨，前者比后者多232.0万吨；无国内旅客周转量数据记录，无法比较。'"
      ]
     },
     "execution_count": 13,
     "metadata": {},
     "output_type": "execute_result"
    }
   ],
   "source": [
    "chatbot.query('12年国内游客周转量和货邮运输量比国际的变化了多少？')"
   ]
  },
  {
   "cell_type": "markdown",
   "metadata": {
    "pycharm": {
     "name": "#%% md\n"
    }
   },
   "source": [
    "## 6. areas_g_compare\n",
    "回答了某一个年度的某一个地区的某项（一或多个）指标相比去年（同比变化只可以与去年相比）的同比变化关系。"
   ]
  },
  {
   "cell_type": "code",
   "execution_count": 14,
   "metadata": {
    "pycharm": {
     "name": "#%%\n"
    }
   },
   "outputs": [
    {
     "data": {
      "text/plain": [
       "'2012年的国内货邮运输量为388.5万吨，其去年的为379.4万吨，同比增长2.4%；无2012年关于国内旅客周转量的数据。'"
      ]
     },
     "execution_count": 14,
     "metadata": {},
     "output_type": "execute_result"
    }
   ],
   "source": [
    "chatbot.query('12年国内游客周转量和货邮运输量同比变化多少？')"
   ]
  },
  {
   "cell_type": "markdown",
   "metadata": {},
   "source": [
    "## 7. areas_2m_compare\n",
    "回答了某两个年度中某（一或多个）地区的某一个指标之间的倍数变化关系。"
   ]
  },
  {
   "cell_type": "code",
   "execution_count": 15,
   "metadata": {
    "pycharm": {
     "name": "#%%\n"
    }
   },
   "outputs": [
    {
     "data": {
      "text/plain": [
       "'2011年的港澳台运输总周转量（12.64亿吨公里）是2012年的（13.66亿吨公里）0.925倍。'"
      ]
     },
     "execution_count": 15,
     "metadata": {},
     "output_type": "execute_result"
    }
   ],
   "source": [
    "chatbot.query('11年港澳台运输总周转量和旅客吞吐量是12年的多少倍？')"
   ]
  },
  {
   "cell_type": "code",
   "execution_count": 16,
   "metadata": {
    "pycharm": {
     "name": "#%%\n"
    }
   },
   "outputs": [
    {
     "data": {
      "text/plain": [
       "'无关于2013年的国内货邮周转量的记录；无关于2013年的国际货邮周转量的记录。'"
      ]
     },
     "execution_count": 16,
     "metadata": {},
     "output_type": "execute_result"
    }
   ],
   "source": [
    "chatbot.query('13年国内与国际货邮周转量占11年的百分之几？')"
   ]
  },
  {
   "cell_type": "markdown",
   "metadata": {},
   "source": [
    "## 8. areas_2n_compare\n",
    "回答了某两个年度中某（一或多个）地区的某一个指标之间的数值关系（比较关系）。"
   ]
  },
  {
   "cell_type": "code",
   "execution_count": 17,
   "metadata": {
    "pycharm": {
     "name": "#%%\n"
    }
   },
   "outputs": [
    {
     "data": {
      "text/plain": [
       "'2013年的国内运输总周转量（461.05亿吨公里）比2012年的（415.83亿吨公里）增加45.22亿吨公里。'"
      ]
     },
     "execution_count": 17,
     "metadata": {},
     "output_type": "execute_result"
    }
   ],
   "source": [
    "chatbot.query('13年国内运输总周转量比12年多多少？')"
   ]
  },
  {
   "cell_type": "code",
   "execution_count": 18,
   "metadata": {
    "pycharm": {
     "name": "#%%\n"
    }
   },
   "outputs": [
    {
     "data": {
      "text/plain": [
       "'无关于2012年的北上广旅客吞吐量的记录。'"
      ]
     },
     "execution_count": 18,
     "metadata": {},
     "output_type": "execute_result"
    }
   ],
   "source": [
    "chatbot.query('12年的北上广与一年前相比，旅客吞吐量降低多少？')\n"
   ]
  }
 ],
 "metadata": {
  "kernelspec": {
   "display_name": "Python 3",
   "language": "python",
   "name": "python3"
  },
  "language_info": {
   "codemirror_mode": {
    "name": "ipython",
    "version": 3
   },
   "file_extension": ".py",
   "mimetype": "text/x-python",
   "name": "python",
   "nbconvert_exporter": "python",
   "pygments_lexer": "ipython3",
   "version": "3.7.7"
  }
 },
 "nbformat": 4,
 "nbformat_minor": 1
}
