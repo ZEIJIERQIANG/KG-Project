{
 "cells": [
  {
   "cell_type": "code",
   "execution_count": 1,
   "metadata": {
    "collapsed": true
   },
   "outputs": [
    {
     "name": "stdout",
     "output_type": "stream",
     "text": [
      "欢迎与小航对话，请问有什么可以帮助您的？\n"
     ]
    }
   ],
   "source": [
    "import os\n",
    "from chatbot import CAChatBot\n",
    "\n",
    "os.chdir(os.path.join(os.getcwd(), '..'))\n",
    "chatbot = CAChatBot()"
   ]
  },
  {
   "cell_type": "markdown",
   "source": [
    "### 在这个demo中，你将看到如下几个问题类型的回答和介绍：\n",
    "1. index_value\n",
    "2. index_overall\n",
    "3. index_2_overall\n",
    "4. indexes_m_compare\n",
    "5. indexes_n_compare\n",
    "6. indexes_g_compare\n",
    "7. indexes_2m_compare\n",
    "8. indexes_2n_compare"
   ],
   "metadata": {
    "collapsed": false
   }
  },
  {
   "cell_type": "markdown",
   "source": [
    "## 1. index_value\n",
    "回答了某一个年度的某项（可以是一项也可以是多项）指标的值。"
   ],
   "metadata": {
    "collapsed": false
   }
  },
  {
   "cell_type": "code",
   "execution_count": 2,
   "outputs": [
    {
     "data": {
      "text/plain": "'货邮周转量为170.29亿吨公里。'"
     },
     "execution_count": 2,
     "metadata": {},
     "output_type": "execute_result"
    }
   ],
   "source": [
    "chatbot.query('2013年的货邮周转量为？')"
   ],
   "metadata": {
    "collapsed": false,
    "pycharm": {
     "name": "#%%\n"
    }
   }
  },
  {
   "cell_type": "code",
   "execution_count": 3,
   "outputs": [
    {
     "data": {
      "text/plain": "'货邮周转量为173.91亿吨公里；旅客周转量为403.53亿吨公里。'"
     },
     "execution_count": 3,
     "metadata": {},
     "output_type": "execute_result"
    }
   ],
   "source": [
    "chatbot.query('2011年货邮周转量和游客周转量是多少？')\n",
    "# 名字近似但不对的，会对其进行模糊查询并匹配最相似的。例 “游客周转量” =》 “旅客周转量”。"
   ],
   "metadata": {
    "collapsed": false,
    "pycharm": {
     "name": "#%%\n"
    }
   }
  },
  {
   "cell_type": "code",
   "execution_count": 4,
   "outputs": [
    {
     "data": {
      "text/plain": "'节能减排为2012年，航空公司使用临时航线约有41.3万架次，缩短飞行距离超过1400万公里，节约航油消耗7.6万吨，减少二氧化碳排放约24万吨。\\r\\n\\r\\n2012年完成西安、重庆、长沙、南京、武汉等17个年旅客吞吐量超过500万人次以上机场桥载设备安装立项报告评估和批复工作。“桥载设备替代飞机APU”全国推广专项工作顺利推进，年节能量和减排量将随着机场相关设备的逐步安装使用不断扩大。'"
     },
     "execution_count": 4,
     "metadata": {},
     "output_type": "execute_result"
    }
   ],
   "source": [
    "chatbot.query('2012年节能减排的值怎样？')"
   ],
   "metadata": {
    "collapsed": false,
    "pycharm": {
     "name": "#%%\n"
    }
   }
  },
  {
   "cell_type": "markdown",
   "source": [
    "## 2. index_overall\n",
    "回答某一个年度的某项（一或多项）指标占其总指标的百分比和倍数。"
   ],
   "metadata": {
    "collapsed": false,
    "pycharm": {
     "name": "#%% md\n"
    }
   }
  },
  {
   "cell_type": "code",
   "execution_count": 5,
   "outputs": [
    {
     "data": {
      "text/plain": "'旅客周转量为501.43亿吨公里，其占总体（运输总周转量）的74.65%，总体（运输总周转量）是其的1.34倍。'"
     },
     "execution_count": 5,
     "metadata": {},
     "output_type": "execute_result"
    }
   ],
   "source": [
    "chatbot.query('2013年旅客周转量占其总体百分之多少？')"
   ],
   "metadata": {
    "collapsed": false,
    "pycharm": {
     "name": "#%%\n"
    }
   }
  },
  {
   "cell_type": "code",
   "execution_count": 6,
   "outputs": [
    {
     "data": {
      "text/plain": "'货邮周转量为170.29亿吨公里，其占总体（运输总周转量）的25.35%，总体（运输总周转量）是其的3.945倍；无全行业取得驾驶执照飞行员的父级数据记录，无法比较。'"
     },
     "execution_count": 6,
     "metadata": {},
     "output_type": "execute_result"
    }
   ],
   "source": [
    "chatbot.query('2013年货邮周转量和全行业取得驾驶执照飞行员占总体多少？')"
   ],
   "metadata": {
    "collapsed": false,
    "pycharm": {
     "name": "#%%\n"
    }
   }
  },
  {
   "cell_type": "markdown",
   "source": [
    "## 3. index_2_overall\n",
    "回答两个年度的一项指标占比总指标的变化（主要指占比是增加还是减少）。"
   ],
   "metadata": {
    "collapsed": false,
    "pycharm": {
     "name": "#%% md\n"
    }
   }
  },
  {
   "cell_type": "code",
   "execution_count": 7,
   "outputs": [
    {
     "data": {
      "text/plain": "'2012年旅客周转量为446.43亿吨公里，其总体指标（运输总周转量）的为610.32亿吨公里，约占总体的73.15%；2011年旅客周转量为403.53亿吨公里，其总体指标（运输总周转量）的为577.44亿吨公里，约占总体的69.88%；前者相比后者提高3.27%。'"
     },
     "execution_count": 7,
     "metadata": {},
     "output_type": "execute_result"
    }
   ],
   "source": [
    "chatbot.query('2012年游客周转量占总体的百分比比去年变化多少？')"
   ],
   "metadata": {
    "collapsed": false,
    "pycharm": {
     "name": "#%%\n"
    }
   }
  },
  {
   "cell_type": "code",
   "execution_count": 8,
   "outputs": [
    {
     "data": {
      "text/plain": "'2012年货邮周转量为163.89亿吨公里，其总体指标（运输总周转量）的为610.32亿吨公里，约占总体的26.85%；2011年货邮周转量为173.91亿吨公里，其总体指标（运输总周转量）的为577.44亿吨公里，约占总体的30.12%；前者相比后者降低3.27%。'"
     },
     "execution_count": 8,
     "metadata": {},
     "output_type": "execute_result"
    }
   ],
   "source": [
    "chatbot.query('2012年游客周转量和货邮周转量占总体的百分比比去年变化多少？')"
   ],
   "metadata": {
    "collapsed": false,
    "pycharm": {
     "name": "#%%\n"
    }
   }
  },
  {
   "cell_type": "code",
   "execution_count": 9,
   "outputs": [
    {
     "data": {
      "text/plain": "'无2013、2011这几年运输总周转量的父级数据记录，无法比较。'"
     },
     "execution_count": 9,
     "metadata": {},
     "output_type": "execute_result"
    }
   ],
   "source": [
    "chatbot.query('13年的运输总周转量占父级的倍数比11年降低多少？')"
   ],
   "metadata": {
    "collapsed": false,
    "pycharm": {
     "name": "#%%\n"
    }
   }
  },
  {
   "cell_type": "markdown",
   "source": [
    "## 4. indexes_m_compare\n",
    "回答某一个年度中某一项指标与另一项指标的倍数关系，只有单位相同的指标才可以比较。"
   ],
   "metadata": {
    "collapsed": false
   }
  },
  {
   "cell_type": "code",
   "execution_count": 10,
   "outputs": [
    {
     "data": {
      "text/plain": "'旅客周转量为403.53亿吨公里，货邮周转量为173.91亿吨公里，前者是后者的2.32倍，后者是前者的0.431倍。'"
     },
     "execution_count": 10,
     "metadata": {},
     "output_type": "execute_result"
    }
   ],
   "source": [
    "chatbot.query('2011年旅客周转量是货邮周转量的几倍？')"
   ],
   "metadata": {
    "collapsed": false,
    "pycharm": {
     "name": "#%%\n"
    }
   }
  },
  {
   "cell_type": "code",
   "execution_count": 11,
   "outputs": [
    {
     "data": {
      "text/plain": "'旅客周转量的单位（亿吨公里）与新增机场的单位（无）不同，无法比较。'"
     },
     "execution_count": 11,
     "metadata": {},
     "output_type": "execute_result"
    }
   ],
   "source": [
    "chatbot.query('11年旅客周转量是新增机场数量的几倍？')"
   ],
   "metadata": {
    "collapsed": false,
    "pycharm": {
     "name": "#%%\n"
    }
   }
  },
  {
   "cell_type": "markdown",
   "source": [
    "## 5. indexes_n_compare\n",
    "回答某一个年度中某一项指标与另一项指标的比较关系（多少关系），同样也只有单位相同才可比较。"
   ],
   "metadata": {
    "collapsed": false,
    "pycharm": {
     "name": "#%% md\n"
    }
   }
  },
  {
   "cell_type": "code",
   "execution_count": 12,
   "outputs": [
    {
     "data": {
      "text/plain": "'旅客周转量为501.43亿吨公里，货邮周转量为170.29亿吨公里，前者比后者多331.14亿吨公里。'"
     },
     "execution_count": 12,
     "metadata": {},
     "output_type": "execute_result"
    }
   ],
   "source": [
    "chatbot.query('13年旅客周转量比货邮周转量多多少？')"
   ],
   "metadata": {
    "collapsed": false,
    "pycharm": {
     "name": "#%%\n"
    }
   }
  },
  {
   "cell_type": "code",
   "execution_count": 13,
   "outputs": [
    {
     "data": {
      "text/plain": "'旅客周转量的单位（亿吨公里）与货邮运输量的单位（万吨）不同，无法比较。'"
     },
     "execution_count": 13,
     "metadata": {},
     "output_type": "execute_result"
    }
   ],
   "source": [
    "chatbot.query('12年旅客周转量比货邮运输量少多少？')"
   ],
   "metadata": {
    "collapsed": false,
    "pycharm": {
     "name": "#%%\n"
    }
   }
  },
  {
   "cell_type": "code",
   "execution_count": 14,
   "outputs": [
    {
     "data": {
      "text/plain": "'旅客周转量的单位（亿吨公里）与新增机场的单位（无）不同，无法比较。'"
     },
     "execution_count": 14,
     "metadata": {},
     "output_type": "execute_result"
    }
   ],
   "source": [
    "chatbot.query('11年旅客周转量比新增机场数量多多少？')"
   ],
   "metadata": {
    "collapsed": false,
    "pycharm": {
     "name": "#%%\n"
    }
   }
  },
  {
   "cell_type": "markdown",
   "source": [
    "## 6. indexes_g_compare\n",
    "回答某一个年度中某项（一或多项）指标的同比变化（同比只能是比去年的数据）。"
   ],
   "metadata": {
    "collapsed": false
   }
  },
  {
   "cell_type": "code",
   "execution_count": 15,
   "outputs": [
    {
     "data": {
      "text/plain": "'2013年的旅客运输量为35397.0万人次，其去年的为31936.0万人次，同比增长10.84%。'"
     },
     "execution_count": 15,
     "metadata": {},
     "output_type": "execute_result"
    }
   ],
   "source": [
    "chatbot.query('2013年旅客运输量同比上升多少？')"
   ],
   "metadata": {
    "collapsed": false,
    "pycharm": {
     "name": "#%%\n"
    }
   }
  },
  {
   "cell_type": "code",
   "execution_count": 16,
   "outputs": [
    {
     "data": {
      "text/plain": "'2012年的货邮周转量为163.89亿吨公里，其去年的为173.91亿吨公里，同比降低5.76%；2012年的旅客运输量为31936.0万人次，其去年的为29317.0万人次，同比增长8.93%。'"
     },
     "execution_count": 16,
     "metadata": {},
     "output_type": "execute_result"
    }
   ],
   "source": [
    "chatbot.query('12年游客运输量和货邮周转量同比变化多少？')"
   ],
   "metadata": {
    "collapsed": false,
    "pycharm": {
     "name": "#%%\n"
    }
   }
  },
  {
   "cell_type": "code",
   "execution_count": 17,
   "outputs": [
    {
     "data": {
      "text/plain": "'年报中并未记录“2010”年的数据！'"
     },
     "execution_count": 17,
     "metadata": {},
     "output_type": "execute_result"
    }
   ],
   "source": [
    "chatbot.query('11年旅客周转量同比增长？')"
   ],
   "metadata": {
    "collapsed": false,
    "pycharm": {
     "name": "#%%\n"
    }
   }
  },
  {
   "cell_type": "markdown",
   "source": [
    "## 7. indexes_2m_compare\n",
    "回答某两个年度的某一项指标之间的倍数关系，非数值类型无法比较。"
   ],
   "metadata": {
    "collapsed": false
   }
  },
  {
   "cell_type": "code",
   "execution_count": 18,
   "outputs": [
    {
     "data": {
      "text/plain": "'2013年的旅客周转量（501.43亿吨公里）是2011年的（403.53亿吨公里）1.243倍。'"
     },
     "execution_count": 18,
     "metadata": {},
     "output_type": "execute_result"
    }
   ],
   "source": [
    "chatbot.query('13年游客周转量是11年的几倍？')"
   ],
   "metadata": {
    "collapsed": false,
    "pycharm": {
     "name": "#%%\n"
    }
   }
  },
  {
   "cell_type": "code",
   "execution_count": 19,
   "outputs": [
    {
     "data": {
      "text/plain": "'2013年的运输总周转量（671.72亿吨公里）是2011年的（577.44亿吨公里）1.163倍。'"
     },
     "execution_count": 19,
     "metadata": {},
     "output_type": "execute_result"
    }
   ],
   "source": [
    "chatbot.query('13年游客周转量和运输总周转量是11年的几倍？')"
   ],
   "metadata": {
    "collapsed": false,
    "pycharm": {
     "name": "#%%\n"
    }
   }
  },
  {
   "cell_type": "code",
   "execution_count": 20,
   "outputs": [
    {
     "data": {
      "text/plain": "'新增机场的记录为无效的值类型，无法比较。'"
     },
     "execution_count": 20,
     "metadata": {},
     "output_type": "execute_result"
    }
   ],
   "source": [
    "chatbot.query('12年新增机场是11年的几倍？')"
   ],
   "metadata": {
    "collapsed": false,
    "pycharm": {
     "name": "#%%\n"
    }
   }
  },
  {
   "cell_type": "markdown",
   "source": [
    "## 8. indexes_2n_compare\n",
    "回答某两个年度的某项指标之间的比较关系（多少关系），非数值类型无法比较"
   ],
   "metadata": {
    "collapsed": false
   }
  },
  {
   "cell_type": "code",
   "execution_count": 21,
   "outputs": [
    {
     "data": {
      "text/plain": "'2012年的货邮运输量（545.0万吨）比2013年的（561.0万吨）减少16.0万吨。'"
     },
     "execution_count": 21,
     "metadata": {},
     "output_type": "execute_result"
    }
   ],
   "source": [
    "chatbot.query('12年比13年货邮运输量增加了多少？')"
   ],
   "metadata": {
    "collapsed": false,
    "pycharm": {
     "name": "#%%\n"
    }
   }
  },
  {
   "cell_type": "code",
   "execution_count": 22,
   "outputs": [
    {
     "data": {
      "text/plain": "'2013年的货邮周转量（170.29亿吨公里）比2012年的（163.89亿吨公里）增加6.4亿吨公里。'"
     },
     "execution_count": 22,
     "metadata": {},
     "output_type": "execute_result"
    }
   ],
   "source": [
    "chatbot.query('13年同去年相比，货邮周转量变化了多少？')"
   ],
   "metadata": {
    "collapsed": false,
    "pycharm": {
     "name": "#%%\n"
    }
   }
  },
  {
   "cell_type": "code",
   "execution_count": 23,
   "outputs": [
    {
     "data": {
      "text/plain": "'节能减排的记录为无效的值类型，无法比较。'"
     },
     "execution_count": 23,
     "metadata": {},
     "output_type": "execute_result"
    }
   ],
   "source": [
    "chatbot.query('2012年节能减排比去年变化了多少？')\n"
   ],
   "metadata": {
    "collapsed": false,
    "pycharm": {
     "name": "#%%\n"
    }
   }
  }
 ],
 "metadata": {
  "kernelspec": {
   "display_name": "Python 3",
   "language": "python",
   "name": "python3"
  },
  "language_info": {
   "codemirror_mode": {
    "name": "ipython",
    "version": 2
   },
   "file_extension": ".py",
   "mimetype": "text/x-python",
   "name": "python",
   "nbconvert_exporter": "python",
   "pygments_lexer": "ipython2",
   "version": "2.7.6"
  }
 },
 "nbformat": 4,
 "nbformat_minor": 0
}